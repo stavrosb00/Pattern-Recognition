{
 "cells": [
  {
   "cell_type": "markdown",
   "id": "8ddfe51f",
   "metadata": {},
   "source": [
    "# 3η εργασία Αναγνώριση Προτύπων - Βασισμένο στο 11ο PDF \"Συνδυασμός μοντέλων και Δέντρα\" με γνώμονα την εφαρμογή δέντρων για την ταξινόμηση δεδομένων\n",
    "## Σταύρος Βασίλειος Μπουλιόπουλος 9671\n",
    "Εισαγωγή βιβλιοθηκών"
   ]
  },
  {
   "cell_type": "code",
   "execution_count": 235,
   "id": "7a72046e",
   "metadata": {},
   "outputs": [],
   "source": [
    "#A\n",
    "import numpy as np\n",
    "import scipy as sp\n",
    "import matplotlib.pyplot as plt\n",
    "from sklearn import datasets\n",
    "from sklearn.model_selection import train_test_split\n",
    "from sklearn.tree import DecisionTreeClassifier\n",
    "from sklearn.metrics import accuracy_score\n",
    "#B\n",
    "from collections import Counter\n",
    "from sklearn.ensemble import RandomForestClassifier\n",
    "\n"
   ]
  },
  {
   "cell_type": "markdown",
   "id": "f977cfab",
   "metadata": {},
   "source": [
    "# Μέρος A\n",
    "Εισαγωγή και επεξεργασία(σύμφωνα με εκφώνηση) δεδομένων για το φυτό της Ίριδας"
   ]
  },
  {
   "cell_type": "code",
   "execution_count": 224,
   "id": "d45594a9",
   "metadata": {},
   "outputs": [],
   "source": [
    "# Reading the Iris.csv file\n",
    "iris = datasets.load_iris()\n",
    "# Extracting Attributes / Features\n",
    "X = iris.data[:, 0:2]  # we only take the first two features.\n",
    "y = iris.target\n",
    "\n",
    "# Creating Train and Test datasets\n",
    "#https://scikit-learn.org/stable/modules/generated/sklearn.model_selection.train_test_split.html\n",
    "X_train, X_test, y_train, y_test = train_test_split(X, y, test_size=0.5, shuffle=True)\n",
    "# ,random_state = 25 \n",
    "\n",
    "\n"
   ]
  },
  {
   "cell_type": "markdown",
   "id": "b698451c",
   "metadata": {},
   "source": [
    "$\\textbf{A.1}$ Ταξινόμηση δειγμάτων σύμφωνα με ταξινομητή Decision Tree για δοκιμές με διαφορετικά βάθη. Τα βάθη των δοκιμών ήταν σε ένα εύλογο εύρος βαθών. Ύστερα από την επαναληπτική δοκιμή προκύπτει ως καλύτερο βάθος αυτό που μας δίνει το καλύτερο ποσοστό ακρίβειας. "
   ]
  },
  {
   "cell_type": "code",
   "execution_count": 225,
   "id": "7e3ae0c9",
   "metadata": {},
   "outputs": [
    {
     "name": "stdout",
     "output_type": "stream",
     "text": [
      "All the accuracy scores are: [ 0.    62.667 74.667 76.    76.    73.333 68.    68.    69.333 69.333]\n",
      "Most efficient depth of tree is 3 by achieving accuracy score percentage of 76.0\n"
     ]
    }
   ],
   "source": [
    "DTClassifier_A = DecisionTreeClassifier()\n",
    "DTClassifier_A.fit(X_train, y_train)\n",
    "# Realistic depth range to examine our dataset\n",
    "depth = DTClassifier_A.get_depth()\n",
    "DTCs = []\n",
    "\n",
    "acc_scores = np.zeros((depth + 1,1))\n",
    "depths = np.zeros((depth + 1,1), dtype=int)\n",
    "for i in range(1, depth + 1):\n",
    "    #The maximum depth of the tree. If None, then nodes are expanded until all leaves are pure or \n",
    "    #until all leaves contain less than min_samples_split samples.\n",
    "    DTC_i = DecisionTreeClassifier(max_depth = i)\n",
    "    DTCs.append(DTC_i)\n",
    "    DTC_i.fit(X_train, y_train)\n",
    "    prediction = DTC_i.predict(X_test)\n",
    "    acc_scores[i] = accuracy_score(y_true = y_test, y_pred = prediction)\n",
    "    depths[i] = i\n",
    "    \n",
    "acc_scores = np.round(acc_scores * 100, 3)\n",
    "print(f\"All the accuracy scores are: {acc_scores[:,0]}\")\n",
    "topAccScoreIdx = np.argmax(acc_scores)\n",
    "topAccScoreVal = acc_scores[topAccScoreIdx, 0]\n",
    "topDepth = depths[topAccScoreIdx, 0]\n",
    "print(f\"Most efficient depth of tree is {topDepth} by achieving accuracy score percentage of {topAccScoreVal}\")"
   ]
  },
  {
   "cell_type": "markdown",
   "id": "5e1adb47",
   "metadata": {},
   "source": [
    "$\\textbf{A.2}$ Απεικόνηση  των ορίων απόφασης του ταξινομητή δέντρου απόφασης με το καλύτερο βάθος που βρέθηκε παραπάνω"
   ]
  },
  {
   "cell_type": "code",
   "execution_count": 226,
   "id": "26ee0c22",
   "metadata": {},
   "outputs": [
    {
     "data": {
      "image/png": "[encoded data removed]",
      "text/plain": [
       "<Figure size 864x864 with 1 Axes>"
      ]
     },
     "metadata": {
      "needs_background": "light"
     },
     "output_type": "display_data"
    }
   ],
   "source": [
    "# https://scikit-learn.org/0.15/auto_examples/tree/plot_iris.html\n",
    "def myDTC_plotter(depth):\n",
    "    # Parameters\n",
    "    n_classes = 3\n",
    "    plot_colors = \"bry\"\n",
    "    plot_step = 0.02\n",
    "    #pairs = enumerate([[0, 1], [0, 2], [0, 3], [1, 2], [1, 3], [2, 3]])\n",
    "    pairs = enumerate([[0, 1]])\n",
    "    for pairidx, pair in pairs:\n",
    "        # Train\n",
    "        X = X_train\n",
    "        y = y_train\n",
    "        clf = DTCs[depth - 1].fit(X, y)\n",
    "        #print(type(clf))\n",
    "\n",
    "        # Plot the decision boundary\n",
    "        plt.rcParams[\"figure.figsize\"] = (12,12)\n",
    "        plt.plot()\n",
    "        #plt.subplot(2, 3, pairidx + 1)\n",
    "\n",
    "        x_min, x_max = X[:, 0].min() - 1, X[:, 0].max() + 1\n",
    "        y_min, y_max = X[:, 1].min() - 1, X[:, 1].max() + 1\n",
    "        xx, yy = np.meshgrid(np.arange(x_min, x_max, plot_step),\n",
    "                             np.arange(y_min, y_max, plot_step))\n",
    "\n",
    "        Z = clf.predict(np.c_[xx.ravel(), yy.ravel()])\n",
    "        #print(Z.shape)\n",
    "        Z = Z.reshape(xx.shape)\n",
    "        #print(Z.shape)\n",
    "        cs = plt.contourf(xx, yy, Z, cmap=plt.cm.Paired)\n",
    "\n",
    "        plt.xlabel(iris.feature_names[pair[0]])\n",
    "        plt.ylabel(iris.feature_names[pair[1]])\n",
    "        plt.axis(\"tight\")\n",
    "\n",
    "        # Plot the training points\n",
    "        for i, color in zip(range(n_classes), plot_colors):\n",
    "            idx = np.where(y == i)\n",
    "            plt.scatter(X[idx, 0], X[idx, 1], c=color, label=iris.target_names[i],\n",
    "                        cmap=plt.cm.Paired)\n",
    "\n",
    "        plt.axis(\"tight\")\n",
    "\n",
    "    plt.suptitle(f\"Decision surface of a decision tree with depth = {depth} using the first two features of Iris dataset\")\n",
    "    plt.legend()\n",
    "    plt.show()\n",
    "\n",
    "myDTC_plotter(topDepth)\n"
   ]
  },
  {
   "cell_type": "markdown",
   "id": "8ba19dae",
   "metadata": {},
   "source": [
    "# Μέρος B\n",
    "Στην κλάση myRandomForestClassifier υλοποιείται ταξινομητής Random Forest  100 δέντρων απόφασης με την μέθοδο Boostrap. Κάθε δέντρο απόφασης εκπαιδεύεται βάσει ενός επεξεργασμένυ dataset του μέρους Α. Συγκεκριμένα, το νέο dataset έχει γ = 50% του αρχικού train set και αυτό το νέο ποσοστό δειγμάτων επαναδειγματοληπτείται με Boostrap."
   ]
  },
  {
   "cell_type": "code",
   "execution_count": 230,
   "id": "0630422b",
   "metadata": {},
   "outputs": [],
   "source": [
    "# Sampling with bootstrap method\n",
    "def bootstrap(X, y, gamma = 0.5):\n",
    "    samples = np.floor(gamma * X.shape[0])\n",
    "    samples = samples.astype(int)\n",
    "    randomPickerIdx = np.random.choice(samples, samples, replace=True)\n",
    "    return X[randomPickerIdx], y[randomPickerIdx]\n",
    "\n",
    "# https://docs.python.org/3/library/collections.html#collections.Counter.most_common\n",
    "# Most common target label found of 3 iris spieces\n",
    "def mostCommonTarget(y):\n",
    "    y_counter = Counter(y)\n",
    "    return y_counter.most_common(1)[0][0]\n",
    "\n",
    "\n",
    "class myRandomForestClassifier:\n",
    "\n",
    "    def __init__(self, numberOfTrees = 100, gamma = 1, min_samples_split = 2, max_depth = 100):\n",
    "        self.numberOfTrees = numberOfTrees\n",
    "        self.forest = []\n",
    "        self.gamma = gamma\n",
    "        self.min_samples_split = min_samples_split\n",
    "        self.max_depth = max_depth\n",
    "\n",
    "    def fit(self, X, y):\n",
    "        for _ in range(self.numberOfTrees):\n",
    "            tree = DecisionTreeClassifier(min_samples_split = self.min_samples_split, max_depth = self.max_depth)\n",
    "            X_Bsamples, y_Bsamples = bootstrap(X, y, self.gamma)\n",
    "            tree.fit(X_Bsamples, y_Bsamples)\n",
    "            self.forest.append(tree)\n",
    "\n",
    "    def predict(self, X):\n",
    "        tree_preds = np.array([tree.predict(X) for tree in self.forest])\n",
    "        # column wise sets => vertical stacking\n",
    "        tree_preds = np.swapaxes(tree_preds, 0, 1)\n",
    "        y_pred = [mostCommonTarget(tree_pred) for tree_pred in tree_preds]\n",
    "        y_pred = np.array(y_pred)\n",
    "        return y_pred"
   ]
  },
  {
   "cell_type": "markdown",
   "id": "fc72d5db",
   "metadata": {},
   "source": [
    "$\\textbf{B.1}$ Ταξινόμηση δειγμάτων σύμφωνα με τον ταξινομητή myRandomForestClassifier για δοκιμές με διαφορετικά βάθη. Τα βάθη των δοκιμών ήταν σε ένα εύλογο εύρος βαθών. Ύστερα από την επαναληπτική δοκιμή προκύπτει ως καλύτερο βάθος αυτό που μας δίνει το καλύτερο ποσοστό ακρίβειας. "
   ]
  },
  {
   "cell_type": "code",
   "execution_count": 231,
   "id": "b66a68fb",
   "metadata": {},
   "outputs": [
    {
     "name": "stdout",
     "output_type": "stream",
     "text": [
      "All the accuracy scores are: [ 0.    62.667 78.667 77.333 72.    72.    72.    70.667 70.667 72.   ]\n",
      "Most efficient depth of tree is 2 by achieving accuracy score percentage of 78.667\n"
     ]
    }
   ],
   "source": [
    "gamma = 0.5\n",
    "\n",
    "acc_scores_RF = np.zeros((depth + 1,1))\n",
    "RFC_predicts = []\n",
    "for i in range(1, depth + 1):\n",
    "    RFC = myRandomForestClassifier(numberOfTrees = 100, gamma = gamma, max_depth = i)\n",
    "    RFC.fit(X_train, y_train)\n",
    "    prediction = RFC.predict(X_test)\n",
    "    RFC_predicts.append(prediction)\n",
    "    acc_scores_RF[i] = accuracy_score(y_true = y_test, y_pred = prediction)\n",
    "\n",
    "acc_scores_RF = np.round(acc_scores_RF * 100, 3)\n",
    "print(f\"All the accuracy scores are: {acc_scores_RF[:,0]}\")\n",
    "topAccScoreIdx = np.argmax(acc_scores_RF)\n",
    "topAccScoreVal = acc_scores_RF[topAccScoreIdx, 0]\n",
    "topDepth = depths[topAccScoreIdx, 0]\n",
    "print(f\"Most efficient depth of tree is {topDepth} by achieving accuracy score percentage of {topAccScoreVal}\")"
   ]
  },
  {
   "cell_type": "markdown",
   "id": "383d14c0",
   "metadata": {},
   "source": [
    "$\\textbf{Β.2}$ Απεικόνηση  των ορίων απόφασης του ταξινομητή Random Forest με το καλύτερο βάθος που βρέθηκε παραπάνω"
   ]
  },
  {
   "cell_type": "code",
   "execution_count": 233,
   "id": "b8ac55dd",
   "metadata": {},
   "outputs": [
    {
     "data": {
      "image/png": "[encoded data removed]",
      "text/plain": [
       "<Figure size 864x864 with 1 Axes>"
      ]
     },
     "metadata": {
      "needs_background": "light"
     },
     "output_type": "display_data"
    }
   ],
   "source": [
    "def myRFC_plotter(depth):\n",
    "    y_pred = RFC_predicts[depth]\n",
    "    # Parameters\n",
    "    n_classes = 3\n",
    "    plot_colors = \"bry\"\n",
    "    plot_step = 0.02\n",
    "    #pairs = enumerate([[0, 1], [0, 2], [0, 3], [1, 2], [1, 3], [2, 3]])\n",
    "    pairs = enumerate([[0, 1]])\n",
    "    for pairidx, pair in pairs:\n",
    "        # Train\n",
    "        X = X_train\n",
    "        y = y_train\n",
    "        clf = RandomForestClassifier(n_estimators = 100, max_depth = depth, max_features = gamma, bootstrap = True).fit(X, y)\n",
    "\n",
    "        # Plot the decision boundary\n",
    "        plt.rcParams[\"figure.figsize\"] = (12,12)\n",
    "        plt.plot()\n",
    "        #plt.subplot(2, 3, pairidx + 1)\n",
    "\n",
    "        x_min, x_max = X[:, 0].min() - 1, X[:, 0].max() + 1\n",
    "        y_min, y_max = X[:, 1].min() - 1, X[:, 1].max() + 1\n",
    "        xx, yy = np.meshgrid(np.arange(x_min, x_max, plot_step),\n",
    "                             np.arange(y_min, y_max, plot_step))\n",
    "\n",
    "        \n",
    "        Z = clf.predict(np.c_[xx.ravel(), yy.ravel()])\n",
    "        #print(Z.shape)\n",
    "        Z = Z.reshape(xx.shape)\n",
    "        #print(Z.shape)\n",
    "        cs = plt.contourf(xx, yy, Z, cmap=plt.cm.Paired)\n",
    "\n",
    "        plt.xlabel(iris.feature_names[pair[0]])\n",
    "        plt.ylabel(iris.feature_names[pair[1]])\n",
    "        plt.axis(\"tight\")\n",
    "\n",
    "        # Plot the training points\n",
    "        for i, color in zip(range(n_classes), plot_colors):\n",
    "            idx = np.where(y == i)\n",
    "            plt.scatter(X[idx, 0], X[idx, 1], c=color, label=iris.target_names[i],\n",
    "                        cmap=plt.cm.Paired)\n",
    "\n",
    "        plt.axis(\"tight\")\n",
    "\n",
    "    plt.suptitle(f\"Decision surface of a random forest with depth = {depth} using the first two features of Iris dataset\")\n",
    "    plt.legend()\n",
    "    plt.show()\n",
    "\n",
    "myRFC_plotter(topDepth)"
   ]
  },
  {
   "cell_type": "markdown",
   "id": "14f6ba99",
   "metadata": {},
   "source": [
    "## Σύγκριση των 2 μεθόδων ταξινόμησης βάσει των αποτελεσμάτων και από τα 2 μέρη\n",
    "Παρατηρούμε ότι ο ταξινομητής Random Forest είναι πιο πετυχημένος από έναν απλό Decision Tree ταξινομητή. Αυτό οφείλεται στο οτι ένας ταξινομητής Random Forest εις βάρος της υπολογιστικής πολυπλοκότητας αποτελείται από πολλά δέντρα απόφασης για μια καλύτερη ακρίβεια πρόβλεψης. "
   ]
  },
  {
   "cell_type": "markdown",
   "id": "d0d8f3fc",
   "metadata": {},
   "source": [
    "$\\textbf{Β.3}$ Μελέτη της επιρροής του συντελεστή $\\gamma$ στην ποιότητα και την απόδοση του αλγορίθμου με κάποιο παράδειγμα. Επιλέχτηκε ως παράδειγμα να δοκιμαστεί ο ταξινομητής Random Forest με:\n",
    "- συγκεκριμένο βάθος, το οποίο επιλέχθηκε να είναι το καλύτερο βάθος που υπολογίστηκε στα παραπάνω ερωτήματα\n",
    "- συντελεστή $\\gamma$ σε ένας εύρος από 10% μέχρι 100% με αυξητικό βήμα 10% κατά επανάληψη\n"
   ]
  },
  {
   "cell_type": "code",
   "execution_count": 234,
   "id": "e2532f59",
   "metadata": {},
   "outputs": [
    {
     "name": "stdout",
     "output_type": "stream",
     "text": [
      "All the accuracy scores are: [58.667 69.333 68.    76.    78.667 73.333 77.333 76.    74.667 74.667]\n",
      "Most efficient gamma parameter equals to 0.5 by achieving accuracy score percentage of 78.667\n"
     ]
    }
   ],
   "source": [
    "gammas = [0.1, 0.2, 0.3, 0.4, 0.5, 0.6, 0.7, 0.8, 0.9, 1.0]\n",
    "\n",
    "acc_scores_RF_gamma = np.zeros((len(gammas),1))\n",
    "for i in range(0, len(gammas)):\n",
    "    clf = myRandomForestClassifier(numberOfTrees = 100, gamma = gammas[i], max_depth = topDepth)\n",
    "    clf.fit(X_train, y_train)\n",
    "    prediction = clf.predict(X_test)\n",
    "    acc_scores_RF_gamma[i] = accuracy_score(y_true=y_test, y_pred=prediction)\n",
    "\n",
    "acc_scores_RF_gamma = np.round(acc_scores_RF_gamma * 100, 3)\n",
    "print(f\"All the accuracy scores are: {acc_scores_RF_gamma[:,0]}\")\n",
    "topAccScoreIdx = np.argmax(acc_scores_RF_gamma)\n",
    "topAccScoreVal = acc_scores_RF_gamma[topAccScoreIdx, 0]\n",
    "topG = gammas[topAccScoreIdx]\n",
    "print(f\"Most efficient gamma parameter equals to {topG} by achieving accuracy score percentage of {topAccScoreVal}\")\n"
   ]
  },
  {
   "cell_type": "markdown",
   "id": "825b7c8f",
   "metadata": {},
   "source": [
    "## Σχολιασμός επιρροής συντελεστή $\\gamma$\n",
    "Παρατηρούμε ότι ο συντελεστής $\\gamma$ όταν είναι χαμηλός τότε έχουμε μεγαλύτερη πιθανότητα να είναι χαμηλό το ποσοστό ακριβείας, ενώ σε μεγαλύτερες τάξεις τιμών $\\gamma$ καταλήγουμε σε παρόμοιο και σχετικά καλό ποσοστό ακριβείας. Αυτό οφείλεται στο οτι το νέο dataset για train έχει ανάγκη ένα ικανοποιητικό ποσοστό δειγμάτων από το dataset του μέρους Α προκειμένου να υπάρχει στην συνέχεια του Random Forest ταξινομητή επαρκή ποικιλία δειγμάτων προς επαναδειγματοληψία κατά Bootstrap για κάθε δέντρο του από τα 100. "
   ]
  },
  {
   "cell_type": "code",
   "execution_count": null,
   "id": "f5f7a3b9",
   "metadata": {},
   "outputs": [],
   "source": []
  }
 ],
 "metadata": {
  "kernelspec": {
   "display_name": "Python 3 (ipykernel)",
   "language": "python",
   "name": "python3"
  },
  "language_info": {
   "codemirror_mode": {
    "name": "ipython",
    "version": 3
   },
   "file_extension": ".py",
   "mimetype": "text/x-python",
   "name": "python",
   "nbconvert_exporter": "python",
   "pygments_lexer": "ipython3",
   "version": "3.9.12"
  }
 },
 "nbformat": 4,
 "nbformat_minor": 5
}
